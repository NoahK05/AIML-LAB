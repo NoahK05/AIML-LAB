{
  "nbformat": 4,
  "nbformat_minor": 0,
  "metadata": {
    "colab": {
      "provenance": [],
      "authorship_tag": "ABX9TyMwmNvj+OiCSuurGs6js7pk",
      "include_colab_link": true
    },
    "kernelspec": {
      "name": "python3",
      "display_name": "Python 3"
    },
    "language_info": {
      "name": "python"
    }
  },
  "cells": [
    {
      "cell_type": "markdown",
      "metadata": {
        "id": "view-in-github",
        "colab_type": "text"
      },
      "source": [
        "<a href=\"https://colab.research.google.com/github/NoahK05/AIML-LAB/blob/main/DFS_py.ipynb\" target=\"_parent\"><img src=\"https://colab.research.google.com/assets/colab-badge.svg\" alt=\"Open In Colab\"/></a>"
      ]
    },
    {
      "cell_type": "code",
      "execution_count": null,
      "metadata": {
        "colab": {
          "base_uri": "https://localhost:8080/"
        },
        "id": "hnOoKLwTxD3H",
        "outputId": "97e326ce-ece0-4b32-f18d-33d0a6a31f74"
      },
      "outputs": [
        {
          "output_type": "stream",
          "name": "stdout",
          "text": [
            "['D', 'C', 'E', 'H', 'G', 'F', 'S', 'A', 'B']\n"
          ]
        }
      ],
      "source": [
        "graph1={\n",
        "    'A' : ['B','S'],\n",
        "    'B'  : ['A'],\n",
        "    'C'  : ['D','E','F','S'],\n",
        "    'D'  : ['C'],\n",
        "    'E'  : ['C','H'],\n",
        "    'F'  : ['C','G'],\n",
        "    'G'  : ['F','S'],\n",
        "    'H'  : ['E','G'],\n",
        "    'S'  : ['A','C','G']\n",
        "}\n",
        "\n",
        "def dfs(graph1,node,visited):\n",
        "  if node not in visited:\n",
        "    visited.append(node)\n",
        "    for k in graph1[node]:\n",
        "      dfs(graph1,k,visited)\n",
        "  return visited\n",
        "visited =dfs(graph1,'D',[])\n",
        "print(visited)"
      ]
    }
  ]
}